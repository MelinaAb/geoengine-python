{
 "metadata": {
  "language_info": {
   "codemirror_mode": {
    "name": "ipython",
    "version": 3
   },
   "file_extension": ".py",
   "mimetype": "text/x-python",
   "name": "python",
   "nbconvert_exporter": "python",
   "pygments_lexer": "ipython3",
   "version": "3.8.5"
  },
  "orig_nbformat": 2,
  "kernelspec": {
   "name": "python3",
   "display_name": "Python 3.8.5 64-bit ('geoengine-python': venv)"
  },
  "metadata": {
   "interpreter": {
    "hash": "d9a58577022e5a7861b3c8ea3505ccc75c3f73de469fb598a66268b17ea40dc4"
   }
  },
  "interpreter": {
   "hash": "ca958c10e1f71a825a5db93eb0d780c2927a6740de19f0cbcd134d682baccbaa"
  }
 },
 "nbformat": 4,
 "nbformat_minor": 2,
 "cells": [
  {
   "source": [
    "# Call Geo Engine via API"
   ],
   "cell_type": "markdown",
   "metadata": {}
  },
  {
   "cell_type": "code",
   "execution_count": 35,
   "metadata": {},
   "outputs": [],
   "source": [
    "import geoengine as ge\n",
    "from datetime import datetime"
   ]
  },
  {
   "source": [
    "## Initialize"
   ],
   "cell_type": "markdown",
   "metadata": {}
  },
  {
   "cell_type": "code",
   "execution_count": 36,
   "metadata": {},
   "outputs": [],
   "source": [
    "# ge.initialize(\"http://peter.geoengine.io:6060\")\n",
    "ge.initialize(\"http://localhost:3030\")"
   ]
  },
  {
   "source": [
    "## Register workflow"
   ],
   "cell_type": "markdown",
   "metadata": {}
  },
  {
   "cell_type": "code",
   "execution_count": 37,
   "metadata": {},
   "outputs": [
    {
     "output_type": "execute_result",
     "data": {
      "text/plain": [
       "c74c37fe-53c3-51ea-b8ab-09ab418288f4"
      ]
     },
     "metadata": {},
     "execution_count": 37
    }
   ],
   "source": [
    "workflow = ge.register_workflow({\n",
    "\t\"type\": \"Vector\",\n",
    "\t\"operator\": {\n",
    "\t\t\"type\": \"RasterVectorJoin\",\n",
    "\t\t\"params\": {\n",
    "\t\t\t\"names\": [\"NDVI\"],\n",
    "\t\t\t\"aggregation\": \"none\"\n",
    "\t\t},\n",
    "\t\t\"sources\": {\n",
    "\t\t\t\"vector\": {\n",
    "\t\t\t\t\"type\": \"OgrSource\",\n",
    "\t\t\t\t\"params\": {\n",
    "\t\t\t\t\t\"dataset\": {\n",
    "\t\t\t\t\t\t\"internal\": \"628c419d-d57c-4850-a624-60f520488835\"\n",
    "\t\t\t\t\t},\n",
    "\t\t\t\t}\n",
    "\t\t\t},\n",
    "\t\t\t\"rasters\": [{\n",
    "\t\t\t\t\"type\": \"Expression\",\n",
    "\t\t\t\t\"params\": {\n",
    "\t\t\t\t\t\"expression\": \"1.0f * (A-B) / (A+B)\",\n",
    "\t\t\t\t\t\"outputType\": \"F32\",\n",
    "\t\t\t\t\t\"outputNoDataValue\": -1,\n",
    "\t\t\t\t},\n",
    "\t\t\t\t\"sources\": {\n",
    "\t\t\t\t\t\"a\": {\n",
    "\t\t\t\t\t\t\"type\": \"TemporalRasterAggregation\",\n",
    "\t\t\t\t\t\t\"params\": {\n",
    "\t\t\t\t\t\t\t\"aggregation\": {\n",
    "\t\t\t\t\t\t\t\t\"type\": \"mean\",\n",
    "\t\t\t\t\t\t\t\t\"ignoreNoData\": True\n",
    "\t\t\t\t\t\t\t},\n",
    "\t\t\t\t\t\t\t\"window\": {\n",
    "\t\t\t\t\t\t\t\t\"granularity\": \"Days\",\n",
    "\t\t\t\t\t\t\t\t\"step\": 30\n",
    "\t\t\t\t\t\t\t}\n",
    "\t\t\t\t\t\t},\n",
    "\t\t\t\t\t\t\"sources\": {\n",
    "\t\t\t\t\t\t\t\"raster\": {\n",
    "\t\t\t\t\t\t\t\t\"type\": \"Expression\",\n",
    "\t\t\t\t\t\t\t\t\"params\": {\n",
    "\t\t\t\t\t\t\t\t\t\"expression\": \"(B >= 7) ? 0 : A\",\n",
    "\t\t\t\t\t\t\t\t\t\"outputType\": \"U16\",\n",
    "\t\t\t\t\t\t\t\t\t\"outputNoDataValue\": 0,\n",
    "\t\t\t\t\t\t\t\t},\n",
    "\t\t\t\t\t\t\t\t\"sources\": {\n",
    "\t\t\t\t\t\t\t\t\t\"a\": {\n",
    "\t\t\t\t\t\t\t\t\t\t\"type\": \"GdalSource\",\n",
    "\t\t\t\t\t\t\t\t\t\t\"params\": {\n",
    "\t\t\t\t\t\t\t\t\t\t\t\"dataset\": {\n",
    "\t\t\t\t\t\t\t\t\t\t\t\t\"external\": {\n",
    "\t\t\t\t\t\t\t\t\t\t\t\t\t\"provider\": \"5779494c-f3a2-48b3-8a2d-5fbba8c5b6c5\",\n",
    "\t\t\t\t\t\t\t\t\t\t\t\t\t\"id\": \"UTM36S:B08\"\n",
    "\t\t\t\t\t\t\t\t\t\t\t\t}\n",
    "\t\t\t\t\t\t\t\t\t\t\t}\n",
    "\t\t\t\t\t\t\t\t\t\t}\n",
    "\t\t\t\t\t\t\t\t\t},\n",
    "\t\t\t\t\t\t\t\t\t\"b\": {\n",
    "\t\t\t\t\t\t\t\t\t\t\"type\": \"GdalSource\",\n",
    "\t\t\t\t\t\t\t\t\t\t\"params\": {\n",
    "\t\t\t\t\t\t\t\t\t\t\t\"dataset\": {\n",
    "\t\t\t\t\t\t\t\t\t\t\t\t\"external\": {\n",
    "\t\t\t\t\t\t\t\t\t\t\t\t\t\"provider\": \"5779494c-f3a2-48b3-8a2d-5fbba8c5b6c5\",\n",
    "\t\t\t\t\t\t\t\t\t\t\t\t\t\"id\": \"UTM36S:SCL\"\n",
    "\t\t\t\t\t\t\t\t\t\t\t\t}\n",
    "\t\t\t\t\t\t\t\t\t\t\t}\n",
    "\t\t\t\t\t\t\t\t\t\t}\n",
    "\t\t\t\t\t\t\t\t\t},\n",
    "\t\t\t\t\t\t\t\t}\n",
    "\t\t\t\t\t\t\t}\n",
    "\t\t\t\t\t\t}\n",
    "\t\t\t\t\t},\n",
    "\t\t\t\t\t\"b\": {\n",
    "\t\t\t\t\t\t\"type\": \"TemporalRasterAggregation\",\n",
    "\t\t\t\t\t\t\"params\": {\n",
    "\t\t\t\t\t\t\t\"aggregation\": {\n",
    "\t\t\t\t\t\t\t\t\"type\": \"mean\",\n",
    "\t\t\t\t\t\t\t\t\"ignoreNoData\": True\n",
    "\t\t\t\t\t\t\t},\n",
    "\t\t\t\t\t\t\t\"window\": {\n",
    "\t\t\t\t\t\t\t\t\"granularity\": \"Days\",\n",
    "\t\t\t\t\t\t\t\t\"step\": 30\n",
    "\t\t\t\t\t\t\t}\n",
    "\t\t\t\t\t\t},\n",
    "\t\t\t\t\t\t\"sources\": {\n",
    "\t\t\t\t\t\t\t\"raster\": {\n",
    "\t\t\t\t\t\t\t\t\"type\": \"Expression\",\n",
    "\t\t\t\t\t\t\t\t\"params\": {\n",
    "\t\t\t\t\t\t\t\t\t\"expression\": \"(B > 7) ? 0 : A\",\n",
    "\t\t\t\t\t\t\t\t\t\"outputType\": \"U16\",\n",
    "\t\t\t\t\t\t\t\t\t\"outputNoDataValue\": 0,\n",
    "\t\t\t\t\t\t\t\t},\n",
    "\t\t\t\t\t\t\t\t\"sources\": {\n",
    "\t\t\t\t\t\t\t\t\t\"a\": {\n",
    "\t\t\t\t\t\t\t\t\t\t\"type\": \"GdalSource\",\n",
    "\t\t\t\t\t\t\t\t\t\t\"params\": {\n",
    "\t\t\t\t\t\t\t\t\t\t\t\"dataset\": {\n",
    "\t\t\t\t\t\t\t\t\t\t\t\t\"external\": {\n",
    "\t\t\t\t\t\t\t\t\t\t\t\t\t\"provider\": \"5779494c-f3a2-48b3-8a2d-5fbba8c5b6c5\",\n",
    "\t\t\t\t\t\t\t\t\t\t\t\t\t\"id\": \"UTM36S:B04\"\n",
    "\t\t\t\t\t\t\t\t\t\t\t\t}\n",
    "\t\t\t\t\t\t\t\t\t\t\t}\n",
    "\t\t\t\t\t\t\t\t\t\t}\n",
    "\t\t\t\t\t\t\t\t\t},\n",
    "\t\t\t\t\t\t\t\t\t\"b\": {\n",
    "\t\t\t\t\t\t\t\t\t\t\"type\": \"GdalSource\",\n",
    "\t\t\t\t\t\t\t\t\t\t\"params\": {\n",
    "\t\t\t\t\t\t\t\t\t\t\t\"dataset\": {\n",
    "\t\t\t\t\t\t\t\t\t\t\t\t\"external\": {\n",
    "\t\t\t\t\t\t\t\t\t\t\t\t\t\"provider\": \"5779494c-f3a2-48b3-8a2d-5fbba8c5b6c5\",\n",
    "\t\t\t\t\t\t\t\t\t\t\t\t\t\"id\": \"UTM36S:SCL\"\n",
    "\t\t\t\t\t\t\t\t\t\t\t\t}\n",
    "\t\t\t\t\t\t\t\t\t\t\t}\n",
    "\t\t\t\t\t\t\t\t\t\t}\n",
    "\t\t\t\t\t\t\t\t\t},\n",
    "\t\t\t\t\t\t\t\t}\n",
    "\t\t\t\t\t\t\t}\n",
    "\t\t\t\t\t\t}\n",
    "\t\t\t\t\t},\n",
    "\t\t\t\t}\n",
    "\t\t\t}]\n",
    "\t\t}\n",
    "\t}\n",
    "})\n",
    "\n",
    "workflow"
   ]
  },
  {
   "source": [
    "## Get result metadata of workflow"
   ],
   "cell_type": "markdown",
   "metadata": {}
  },
  {
   "cell_type": "code",
   "execution_count": 38,
   "metadata": {},
   "outputs": [
    {
     "output_type": "execute_result",
     "data": {
      "text/plain": [
       "Data type:         MultiPoint\n",
       "Spatial Reference: EPSG:32736\n",
       "Columns:           NDVI: float"
      ]
     },
     "metadata": {},
     "execution_count": 38
    }
   ],
   "source": [
    "workflow.get_result_descriptor()"
   ]
  },
  {
   "source": [
    "## Get dataframe via WFS"
   ],
   "cell_type": "markdown",
   "metadata": {}
  },
  {
   "cell_type": "code",
   "execution_count": 39,
   "metadata": {},
   "outputs": [
    {
     "output_type": "execute_result",
     "data": {
      "text/plain": [
       "        NDVI                        geometry                     start  \\\n",
       "0   0.705591  POINT (651871.900 9917317.492) 2021-04-01 12:00:00+00:00   \n",
       "1   0.556785  POINT (651948.288 9917317.492) 2021-04-01 12:00:00+00:00   \n",
       "2   0.649587  POINT (652003.044 9917331.688) 2021-04-01 12:00:00+00:00   \n",
       "3   0.624911  POINT (652009.804 9917265.440) 2021-04-01 12:00:00+00:00   \n",
       "4   0.417145  POINT (652156.497 9917393.204) 2021-04-01 12:00:00+00:00   \n",
       "5   0.370048  POINT (652213.281 9917508.801) 2021-04-01 12:00:00+00:00   \n",
       "6   0.554159  POINT (652328.877 9917625.749) 2021-04-01 12:00:00+00:00   \n",
       "7   0.409858  POINT (652261.277 9917505.421) 2021-04-01 12:00:00+00:00   \n",
       "8   0.351711  POINT (652288.317 9917479.733) 2021-04-01 12:00:00+00:00   \n",
       "9   0.367278  POINT (652303.189 9917450.665) 2021-04-01 12:00:00+00:00   \n",
       "10  0.679697  POINT (652428.926 9917516.237) 2021-04-01 12:00:00+00:00   \n",
       "11  0.629669  POINT (652612.122 9917488.521) 2021-04-01 12:00:00+00:00   \n",
       "12  0.785300  POINT (652425.546 9917403.345) 2021-04-01 12:00:00+00:00   \n",
       "13  0.593436  POINT (652145.681 9917221.500) 2021-04-01 12:00:00+00:00   \n",
       "14  0.657702  POINT (652212.605 9917243.132) 2021-04-01 12:00:00+00:00   \n",
       "15  0.619442  POINT (652291.021 9917248.540) 2021-04-01 12:00:00+00:00   \n",
       "16  0.665116  POINT (652321.441 9917249.892) 2021-04-01 12:00:00+00:00   \n",
       "17  0.721778  POINT (652288.317 9917208.656) 2021-04-01 12:00:00+00:00   \n",
       "18  0.749301  POINT (652342.397 9917220.148) 2021-04-01 12:00:00+00:00   \n",
       "19  0.588485  POINT (652294.401 9917112.663) 2021-04-01 12:00:00+00:00   \n",
       "20  0.586803  POINT (652347.805 9917095.763) 2021-04-01 12:00:00+00:00   \n",
       "21  0.535979  POINT (652391.746 9917116.043) 2021-04-01 12:00:00+00:00   \n",
       "22  0.674931  POINT (652327.525 9917058.583) 2021-04-01 12:00:00+00:00   \n",
       "23  0.685479  POINT (652390.394 9917079.539) 2021-04-01 12:00:00+00:00   \n",
       "24  0.638675  POINT (652291.021 9916985.575) 2021-04-01 12:00:00+00:00   \n",
       "25  0.632602  POINT (652392.422 9917040.331) 2021-04-01 12:00:00+00:00   \n",
       "26  0.668063  POINT (652349.833 9917006.531) 2021-04-01 12:00:00+00:00   \n",
       "27  0.646263  POINT (652377.550 9916979.491) 2021-04-01 12:00:00+00:00   \n",
       "28  0.685479  POINT (652432.982 9917050.471) 2021-04-01 12:00:00+00:00   \n",
       "29  0.704945  POINT (652452.586 9917005.855) 2021-04-01 12:00:00+00:00   \n",
       "30  0.229111  POINT (652560.070 9917018.023) 2021-04-01 12:00:00+00:00   \n",
       "31  0.684834  POINT (652455.966 9917111.987) 2021-04-01 12:00:00+00:00   \n",
       "32  0.385772  POINT (652520.186 9917140.380) 2021-04-01 12:00:00+00:00   \n",
       "33  0.621855  POINT (652524.242 9917109.959) 2021-04-01 12:00:00+00:00   \n",
       "34  0.211384  POINT (652570.886 9917230.288) 2021-04-01 12:00:00+00:00   \n",
       "35  0.526316  POINT (652523.566 9917315.464) 2021-04-01 12:00:00+00:00   \n",
       "36  0.615063  POINT (652591.166 9917204.600) 2021-04-01 12:00:00+00:00   \n",
       "37  0.696351  POINT (652620.910 9917304.648) 2021-04-01 12:00:00+00:00   \n",
       "38  0.277480  POINT (652656.063 9917345.884) 2021-04-01 12:00:00+00:00   \n",
       "39  0.609524  POINT (652680.399 9917281.664) 2021-04-01 12:00:00+00:00   \n",
       "\n",
       "                         end  \n",
       "0  2021-05-01 12:00:00+00:00  \n",
       "1  2021-05-01 12:00:00+00:00  \n",
       "2  2021-05-01 12:00:00+00:00  \n",
       "3  2021-05-01 12:00:00+00:00  \n",
       "4  2021-05-01 12:00:00+00:00  \n",
       "5  2021-05-01 12:00:00+00:00  \n",
       "6  2021-05-01 12:00:00+00:00  \n",
       "7  2021-05-01 12:00:00+00:00  \n",
       "8  2021-05-01 12:00:00+00:00  \n",
       "9  2021-05-01 12:00:00+00:00  \n",
       "10 2021-05-01 12:00:00+00:00  \n",
       "11 2021-05-01 12:00:00+00:00  \n",
       "12 2021-05-01 12:00:00+00:00  \n",
       "13 2021-05-01 12:00:00+00:00  \n",
       "14 2021-05-01 12:00:00+00:00  \n",
       "15 2021-05-01 12:00:00+00:00  \n",
       "16 2021-05-01 12:00:00+00:00  \n",
       "17 2021-05-01 12:00:00+00:00  \n",
       "18 2021-05-01 12:00:00+00:00  \n",
       "19 2021-05-01 12:00:00+00:00  \n",
       "20 2021-05-01 12:00:00+00:00  \n",
       "21 2021-05-01 12:00:00+00:00  \n",
       "22 2021-05-01 12:00:00+00:00  \n",
       "23 2021-05-01 12:00:00+00:00  \n",
       "24 2021-05-01 12:00:00+00:00  \n",
       "25 2021-05-01 12:00:00+00:00  \n",
       "26 2021-05-01 12:00:00+00:00  \n",
       "27 2021-05-01 12:00:00+00:00  \n",
       "28 2021-05-01 12:00:00+00:00  \n",
       "29 2021-05-01 12:00:00+00:00  \n",
       "30 2021-05-01 12:00:00+00:00  \n",
       "31 2021-05-01 12:00:00+00:00  \n",
       "32 2021-05-01 12:00:00+00:00  \n",
       "33 2021-05-01 12:00:00+00:00  \n",
       "34 2021-05-01 12:00:00+00:00  \n",
       "35 2021-05-01 12:00:00+00:00  \n",
       "36 2021-05-01 12:00:00+00:00  \n",
       "37 2021-05-01 12:00:00+00:00  \n",
       "38 2021-05-01 12:00:00+00:00  \n",
       "39 2021-05-01 12:00:00+00:00  "
      ],
      "text/html": "<div>\n<style scoped>\n    .dataframe tbody tr th:only-of-type {\n        vertical-align: middle;\n    }\n\n    .dataframe tbody tr th {\n        vertical-align: top;\n    }\n\n    .dataframe thead th {\n        text-align: right;\n    }\n</style>\n<table border=\"1\" class=\"dataframe\">\n  <thead>\n    <tr style=\"text-align: right;\">\n      <th></th>\n      <th>NDVI</th>\n      <th>geometry</th>\n      <th>start</th>\n      <th>end</th>\n    </tr>\n  </thead>\n  <tbody>\n    <tr>\n      <th>0</th>\n      <td>0.705591</td>\n      <td>POINT (651871.900 9917317.492)</td>\n      <td>2021-04-01 12:00:00+00:00</td>\n      <td>2021-05-01 12:00:00+00:00</td>\n    </tr>\n    <tr>\n      <th>1</th>\n      <td>0.556785</td>\n      <td>POINT (651948.288 9917317.492)</td>\n      <td>2021-04-01 12:00:00+00:00</td>\n      <td>2021-05-01 12:00:00+00:00</td>\n    </tr>\n    <tr>\n      <th>2</th>\n      <td>0.649587</td>\n      <td>POINT (652003.044 9917331.688)</td>\n      <td>2021-04-01 12:00:00+00:00</td>\n      <td>2021-05-01 12:00:00+00:00</td>\n    </tr>\n    <tr>\n      <th>3</th>\n      <td>0.624911</td>\n      <td>POINT (652009.804 9917265.440)</td>\n      <td>2021-04-01 12:00:00+00:00</td>\n      <td>2021-05-01 12:00:00+00:00</td>\n    </tr>\n    <tr>\n      <th>4</th>\n      <td>0.417145</td>\n      <td>POINT (652156.497 9917393.204)</td>\n      <td>2021-04-01 12:00:00+00:00</td>\n      <td>2021-05-01 12:00:00+00:00</td>\n    </tr>\n    <tr>\n      <th>5</th>\n      <td>0.370048</td>\n      <td>POINT (652213.281 9917508.801)</td>\n      <td>2021-04-01 12:00:00+00:00</td>\n      <td>2021-05-01 12:00:00+00:00</td>\n    </tr>\n    <tr>\n      <th>6</th>\n      <td>0.554159</td>\n      <td>POINT (652328.877 9917625.749)</td>\n      <td>2021-04-01 12:00:00+00:00</td>\n      <td>2021-05-01 12:00:00+00:00</td>\n    </tr>\n    <tr>\n      <th>7</th>\n      <td>0.409858</td>\n      <td>POINT (652261.277 9917505.421)</td>\n      <td>2021-04-01 12:00:00+00:00</td>\n      <td>2021-05-01 12:00:00+00:00</td>\n    </tr>\n    <tr>\n      <th>8</th>\n      <td>0.351711</td>\n      <td>POINT (652288.317 9917479.733)</td>\n      <td>2021-04-01 12:00:00+00:00</td>\n      <td>2021-05-01 12:00:00+00:00</td>\n    </tr>\n    <tr>\n      <th>9</th>\n      <td>0.367278</td>\n      <td>POINT (652303.189 9917450.665)</td>\n      <td>2021-04-01 12:00:00+00:00</td>\n      <td>2021-05-01 12:00:00+00:00</td>\n    </tr>\n    <tr>\n      <th>10</th>\n      <td>0.679697</td>\n      <td>POINT (652428.926 9917516.237)</td>\n      <td>2021-04-01 12:00:00+00:00</td>\n      <td>2021-05-01 12:00:00+00:00</td>\n    </tr>\n    <tr>\n      <th>11</th>\n      <td>0.629669</td>\n      <td>POINT (652612.122 9917488.521)</td>\n      <td>2021-04-01 12:00:00+00:00</td>\n      <td>2021-05-01 12:00:00+00:00</td>\n    </tr>\n    <tr>\n      <th>12</th>\n      <td>0.785300</td>\n      <td>POINT (652425.546 9917403.345)</td>\n      <td>2021-04-01 12:00:00+00:00</td>\n      <td>2021-05-01 12:00:00+00:00</td>\n    </tr>\n    <tr>\n      <th>13</th>\n      <td>0.593436</td>\n      <td>POINT (652145.681 9917221.500)</td>\n      <td>2021-04-01 12:00:00+00:00</td>\n      <td>2021-05-01 12:00:00+00:00</td>\n    </tr>\n    <tr>\n      <th>14</th>\n      <td>0.657702</td>\n      <td>POINT (652212.605 9917243.132)</td>\n      <td>2021-04-01 12:00:00+00:00</td>\n      <td>2021-05-01 12:00:00+00:00</td>\n    </tr>\n    <tr>\n      <th>15</th>\n      <td>0.619442</td>\n      <td>POINT (652291.021 9917248.540)</td>\n      <td>2021-04-01 12:00:00+00:00</td>\n      <td>2021-05-01 12:00:00+00:00</td>\n    </tr>\n    <tr>\n      <th>16</th>\n      <td>0.665116</td>\n      <td>POINT (652321.441 9917249.892)</td>\n      <td>2021-04-01 12:00:00+00:00</td>\n      <td>2021-05-01 12:00:00+00:00</td>\n    </tr>\n    <tr>\n      <th>17</th>\n      <td>0.721778</td>\n      <td>POINT (652288.317 9917208.656)</td>\n      <td>2021-04-01 12:00:00+00:00</td>\n      <td>2021-05-01 12:00:00+00:00</td>\n    </tr>\n    <tr>\n      <th>18</th>\n      <td>0.749301</td>\n      <td>POINT (652342.397 9917220.148)</td>\n      <td>2021-04-01 12:00:00+00:00</td>\n      <td>2021-05-01 12:00:00+00:00</td>\n    </tr>\n    <tr>\n      <th>19</th>\n      <td>0.588485</td>\n      <td>POINT (652294.401 9917112.663)</td>\n      <td>2021-04-01 12:00:00+00:00</td>\n      <td>2021-05-01 12:00:00+00:00</td>\n    </tr>\n    <tr>\n      <th>20</th>\n      <td>0.586803</td>\n      <td>POINT (652347.805 9917095.763)</td>\n      <td>2021-04-01 12:00:00+00:00</td>\n      <td>2021-05-01 12:00:00+00:00</td>\n    </tr>\n    <tr>\n      <th>21</th>\n      <td>0.535979</td>\n      <td>POINT (652391.746 9917116.043)</td>\n      <td>2021-04-01 12:00:00+00:00</td>\n      <td>2021-05-01 12:00:00+00:00</td>\n    </tr>\n    <tr>\n      <th>22</th>\n      <td>0.674931</td>\n      <td>POINT (652327.525 9917058.583)</td>\n      <td>2021-04-01 12:00:00+00:00</td>\n      <td>2021-05-01 12:00:00+00:00</td>\n    </tr>\n    <tr>\n      <th>23</th>\n      <td>0.685479</td>\n      <td>POINT (652390.394 9917079.539)</td>\n      <td>2021-04-01 12:00:00+00:00</td>\n      <td>2021-05-01 12:00:00+00:00</td>\n    </tr>\n    <tr>\n      <th>24</th>\n      <td>0.638675</td>\n      <td>POINT (652291.021 9916985.575)</td>\n      <td>2021-04-01 12:00:00+00:00</td>\n      <td>2021-05-01 12:00:00+00:00</td>\n    </tr>\n    <tr>\n      <th>25</th>\n      <td>0.632602</td>\n      <td>POINT (652392.422 9917040.331)</td>\n      <td>2021-04-01 12:00:00+00:00</td>\n      <td>2021-05-01 12:00:00+00:00</td>\n    </tr>\n    <tr>\n      <th>26</th>\n      <td>0.668063</td>\n      <td>POINT (652349.833 9917006.531)</td>\n      <td>2021-04-01 12:00:00+00:00</td>\n      <td>2021-05-01 12:00:00+00:00</td>\n    </tr>\n    <tr>\n      <th>27</th>\n      <td>0.646263</td>\n      <td>POINT (652377.550 9916979.491)</td>\n      <td>2021-04-01 12:00:00+00:00</td>\n      <td>2021-05-01 12:00:00+00:00</td>\n    </tr>\n    <tr>\n      <th>28</th>\n      <td>0.685479</td>\n      <td>POINT (652432.982 9917050.471)</td>\n      <td>2021-04-01 12:00:00+00:00</td>\n      <td>2021-05-01 12:00:00+00:00</td>\n    </tr>\n    <tr>\n      <th>29</th>\n      <td>0.704945</td>\n      <td>POINT (652452.586 9917005.855)</td>\n      <td>2021-04-01 12:00:00+00:00</td>\n      <td>2021-05-01 12:00:00+00:00</td>\n    </tr>\n    <tr>\n      <th>30</th>\n      <td>0.229111</td>\n      <td>POINT (652560.070 9917018.023)</td>\n      <td>2021-04-01 12:00:00+00:00</td>\n      <td>2021-05-01 12:00:00+00:00</td>\n    </tr>\n    <tr>\n      <th>31</th>\n      <td>0.684834</td>\n      <td>POINT (652455.966 9917111.987)</td>\n      <td>2021-04-01 12:00:00+00:00</td>\n      <td>2021-05-01 12:00:00+00:00</td>\n    </tr>\n    <tr>\n      <th>32</th>\n      <td>0.385772</td>\n      <td>POINT (652520.186 9917140.380)</td>\n      <td>2021-04-01 12:00:00+00:00</td>\n      <td>2021-05-01 12:00:00+00:00</td>\n    </tr>\n    <tr>\n      <th>33</th>\n      <td>0.621855</td>\n      <td>POINT (652524.242 9917109.959)</td>\n      <td>2021-04-01 12:00:00+00:00</td>\n      <td>2021-05-01 12:00:00+00:00</td>\n    </tr>\n    <tr>\n      <th>34</th>\n      <td>0.211384</td>\n      <td>POINT (652570.886 9917230.288)</td>\n      <td>2021-04-01 12:00:00+00:00</td>\n      <td>2021-05-01 12:00:00+00:00</td>\n    </tr>\n    <tr>\n      <th>35</th>\n      <td>0.526316</td>\n      <td>POINT (652523.566 9917315.464)</td>\n      <td>2021-04-01 12:00:00+00:00</td>\n      <td>2021-05-01 12:00:00+00:00</td>\n    </tr>\n    <tr>\n      <th>36</th>\n      <td>0.615063</td>\n      <td>POINT (652591.166 9917204.600)</td>\n      <td>2021-04-01 12:00:00+00:00</td>\n      <td>2021-05-01 12:00:00+00:00</td>\n    </tr>\n    <tr>\n      <th>37</th>\n      <td>0.696351</td>\n      <td>POINT (652620.910 9917304.648)</td>\n      <td>2021-04-01 12:00:00+00:00</td>\n      <td>2021-05-01 12:00:00+00:00</td>\n    </tr>\n    <tr>\n      <th>38</th>\n      <td>0.277480</td>\n      <td>POINT (652656.063 9917345.884)</td>\n      <td>2021-04-01 12:00:00+00:00</td>\n      <td>2021-05-01 12:00:00+00:00</td>\n    </tr>\n    <tr>\n      <th>39</th>\n      <td>0.609524</td>\n      <td>POINT (652680.399 9917281.664)</td>\n      <td>2021-04-01 12:00:00+00:00</td>\n      <td>2021-05-01 12:00:00+00:00</td>\n    </tr>\n  </tbody>\n</table>\n</div>"
     },
     "metadata": {},
     "execution_count": 39
    }
   ],
   "source": [
    "time = datetime.strptime('2021-04-01T12:00:00.000Z', \"%Y-%m-%dT%H:%M:%S.%f%z\")\n",
    "\n",
    "bounds = [650619.8559276887,9916254.118729865,654976.3607882614,9918738.406625563]\n",
    "\n",
    "print(bounds[2]-bounds[0])\n",
    "print(bounds[3]-bounds[1])\n",
    "\n",
    "data = workflow.get_dataframe(\n",
    "    ge.Bbox(\n",
    "        #[-111.533203125, -4.482421875, 114.345703125, 73.388671875],\n",
    "        bounds,\n",
    "        #[472950.2425297845, 5629726.81375506, 482100.6349002005, 5634944.806098521],\n",
    "        [time, time],\n",
    "        srs='EPSG:32736',\n",
    "        resolution=20.\n",
    "        )\n",
    "    )\n",
    "\n",
    "data"
   ]
  },
  {
   "source": [
    "## Plot points colored by NDVI value"
   ],
   "cell_type": "markdown",
   "metadata": {}
  },
  {
   "cell_type": "code",
   "execution_count": 40,
   "metadata": {},
   "outputs": [
    {
     "output_type": "display_data",
     "data": {
      "text/plain": "<Figure size 1152x576 with 1 Axes>",
      "image/svg+xml": "<?xml version=\"1.0\" encoding=\"utf-8\" standalone=\"no\"?>\n<!DOCTYPE svg PUBLIC \"-//W3C//DTD SVG 1.1//EN\"\n  \"http://www.w3.org/Graphics/SVG/1.1/DTD/svg11.dtd\">\n<svg height=\"476.556563pt\" version=\"1.1\" viewBox=\"0 0 550.019694 476.556563\" width=\"550.019694pt\" xmlns=\"http://www.w3.org/2000/svg\" xmlns:xlink=\"http://www.w3.org/1999/xlink\">\n <metadata>\n  <rdf:RDF xmlns:cc=\"http://creativecommons.org/ns#\" xmlns:dc=\"http://purl.org/dc/elements/1.1/\" xmlns:rdf=\"http://www.w3.org/1999/02/22-rdf-syntax-ns#\">\n   <cc:Work>\n    <dc:type rdf:resource=\"http://purl.org/dc/dcmitype/StillImage\"/>\n    <dc:date>2021-06-17T00:20:31.332435</dc:date>\n    <dc:format>image/svg+xml</dc:format>\n    <dc:creator>\n     <cc:Agent>\n      <dc:title>Matplotlib v3.4.2, https://matplotlib.org/</dc:title>\n     </cc:Agent>\n    </dc:creator>\n   </cc:Work>\n  </rdf:RDF>\n </metadata>\n <defs>\n  <style type=\"text/css\">*{stroke-linecap:butt;stroke-linejoin:round;}</style>\n </defs>\n <g id=\"figure_1\">\n  <g id=\"patch_1\">\n   <path d=\"M 0 476.556563 \nL 550.019694 476.556563 \nL 550.019694 0 \nL 0 0 \nz\n\" style=\"fill:none;\"/>\n  </g>\n  <g id=\"axes_1\">\n   <g id=\"patch_2\">\n    <path d=\"M 33.2875 452.678438 \nL 535.49097 452.678438 \nL 535.49097 17.798438 \nL 33.2875 17.798438 \nz\n\" style=\"fill:#ffffff;\"/>\n   </g>\n   <g id=\"PathCollection_1\">\n    <defs>\n     <path d=\"M 0 3 \nC 0.795609 3 1.55874 2.683901 2.12132 2.12132 \nC 2.683901 1.55874 3 0.795609 3 -0 \nC 3 -0.795609 2.683901 -1.55874 2.12132 -2.12132 \nC 1.55874 -2.683901 0.795609 -3 0 -3 \nC -0.795609 -3 -1.55874 -2.683901 -2.12132 -2.12132 \nC -2.683901 -1.55874 -3 -0.795609 -3 0 \nC -3 0.795609 -2.683901 1.55874 -2.12132 2.12132 \nC -1.55874 2.683901 -0.795609 3 0 3 \nz\n\" id=\"C0_0_f94bb15d1e\"/>\n    </defs>\n    <g clip-path=\"url(#p3bba4cb2d9)\">\n     <use style=\"fill:#a2da37;stroke:#a2da37;\" x=\"56.11493\" xlink:href=\"#C0_0_f94bb15d1e\" y=\"226.14053\"/>\n    </g>\n    <g clip-path=\"url(#p3bba4cb2d9)\">\n     <use style=\"fill:#23a983;stroke:#23a983;\" x=\"99.250376\" xlink:href=\"#C0_0_f94bb15d1e\" y=\"226.14053\"/>\n    </g>\n    <g clip-path=\"url(#p3bba4cb2d9)\">\n     <use style=\"fill:#65cb5e;stroke:#65cb5e;\" x=\"130.170474\" xlink:href=\"#C0_0_f94bb15d1e\" y=\"217.456163\"/>\n    </g>\n    <g clip-path=\"url(#p3bba4cb2d9)\">\n     <use style=\"fill:#4ec36b;stroke:#4ec36b;\" x=\"133.98777\" xlink:href=\"#C0_0_f94bb15d1e\" y=\"257.983207\"/>\n    </g>\n    <g clip-path=\"url(#p3bba4cb2d9)\">\n     <use style=\"fill:#2e6e8e;stroke:#2e6e8e;\" x=\"216.823095\" xlink:href=\"#C0_0_f94bb15d1e\" y=\"179.823907\"/>\n    </g>\n    <g clip-path=\"url(#p3bba4cb2d9)\">\n     <use style=\"fill:#38598c;stroke:#38598c;\" x=\"248.888382\" xlink:href=\"#C0_0_f94bb15d1e\" y=\"109.10835\"/>\n    </g>\n    <g clip-path=\"url(#p3bba4cb2d9)\">\n     <use style=\"fill:#22a785;stroke:#22a785;\" x=\"314.164144\" xlink:href=\"#C0_0_f94bb15d1e\" y=\"37.56571\"/>\n    </g>\n    <g clip-path=\"url(#p3bba4cb2d9)\">\n     <use style=\"fill:#2f6b8e;stroke:#2f6b8e;\" x=\"275.991184\" xlink:href=\"#C0_0_f94bb15d1e\" y=\"111.176056\"/>\n    </g>\n    <g clip-path=\"url(#p3bba4cb2d9)\">\n     <use style=\"fill:#3c508b;stroke:#3c508b;\" x=\"291.260368\" xlink:href=\"#C0_0_f94bb15d1e\" y=\"126.890625\"/>\n    </g>\n    <g clip-path=\"url(#p3bba4cb2d9)\">\n     <use style=\"fill:#38588c;stroke:#38588c;\" x=\"299.658419\" xlink:href=\"#C0_0_f94bb15d1e\" y=\"144.672899\"/>\n    </g>\n    <g clip-path=\"url(#p3bba4cb2d9)\">\n     <use style=\"fill:#84d44b;stroke:#84d44b;\" x=\"370.660126\" xlink:href=\"#C0_0_f94bb15d1e\" y=\"104.559396\"/>\n    </g>\n    <g clip-path=\"url(#p3bba4cb2d9)\">\n     <use style=\"fill:#52c569;stroke:#52c569;\" x=\"474.108849\" xlink:href=\"#C0_0_f94bb15d1e\" y=\"121.514588\"/>\n    </g>\n    <g clip-path=\"url(#p3bba4cb2d9)\">\n     <use style=\"fill:#fde725;stroke:#fde725;\" x=\"368.751478\" xlink:href=\"#C0_0_f94bb15d1e\" y=\"173.620788\"/>\n    </g>\n    <g clip-path=\"url(#p3bba4cb2d9)\">\n     <use style=\"fill:#35b779;stroke:#35b779;\" x=\"210.715421\" xlink:href=\"#C0_0_f94bb15d1e\" y=\"284.86339\"/>\n    </g>\n    <g clip-path=\"url(#p3bba4cb2d9)\">\n     <use style=\"fill:#6ece58;stroke:#6ece58;\" x=\"248.506652\" xlink:href=\"#C0_0_f94bb15d1e\" y=\"271.630069\"/>\n    </g>\n    <g clip-path=\"url(#p3bba4cb2d9)\">\n     <use style=\"fill:#4ac16d;stroke:#4ac16d;\" x=\"292.787286\" xlink:href=\"#C0_0_f94bb15d1e\" y=\"268.321739\"/>\n    </g>\n    <g clip-path=\"url(#p3bba4cb2d9)\">\n     <use style=\"fill:#75d054;stroke:#75d054;\" x=\"309.965119\" xlink:href=\"#C0_0_f94bb15d1e\" y=\"267.494657\"/>\n    </g>\n    <g clip-path=\"url(#p3bba4cb2d9)\">\n     <use style=\"fill:#b5de2b;stroke:#b5de2b;\" x=\"291.260368\" xlink:href=\"#C0_0_f94bb15d1e\" y=\"292.720674\"/>\n    </g>\n    <g clip-path=\"url(#p3bba4cb2d9)\">\n     <use style=\"fill:#d5e21a;stroke:#d5e21a;\" x=\"321.798736\" xlink:href=\"#C0_0_f94bb15d1e\" y=\"285.690472\"/>\n    </g>\n    <g clip-path=\"url(#p3bba4cb2d9)\">\n     <use style=\"fill:#32b67a;stroke:#32b67a;\" x=\"294.695934\" xlink:href=\"#C0_0_f94bb15d1e\" y=\"351.443534\"/>\n    </g>\n    <g clip-path=\"url(#p3bba4cb2d9)\">\n     <use style=\"fill:#31b57b;stroke:#31b57b;\" x=\"324.852573\" xlink:href=\"#C0_0_f94bb15d1e\" y=\"361.782066\"/>\n    </g>\n    <g clip-path=\"url(#p3bba4cb2d9)\">\n     <use style=\"fill:#1fa088;stroke:#1fa088;\" x=\"349.664998\" xlink:href=\"#C0_0_f94bb15d1e\" y=\"349.375828\"/>\n    </g>\n    <g clip-path=\"url(#p3bba4cb2d9)\">\n     <use style=\"fill:#7fd34e;stroke:#7fd34e;\" x=\"313.400685\" xlink:href=\"#C0_0_f94bb15d1e\" y=\"384.526836\"/>\n    </g>\n    <g clip-path=\"url(#p3bba4cb2d9)\">\n     <use style=\"fill:#8bd646;stroke:#8bd646;\" x=\"348.901538\" xlink:href=\"#C0_0_f94bb15d1e\" y=\"371.707057\"/>\n    </g>\n    <g clip-path=\"url(#p3bba4cb2d9)\">\n     <use style=\"fill:#5ac864;stroke:#5ac864;\" x=\"292.787286\" xlink:href=\"#C0_0_f94bb15d1e\" y=\"429.189293\"/>\n    </g>\n    <g clip-path=\"url(#p3bba4cb2d9)\">\n     <use style=\"fill:#54c568;stroke:#54c568;\" x=\"350.046727\" xlink:href=\"#C0_0_f94bb15d1e\" y=\"395.69245\"/>\n    </g>\n    <g clip-path=\"url(#p3bba4cb2d9)\">\n     <use style=\"fill:#77d153;stroke:#77d153;\" x=\"325.997762\" xlink:href=\"#C0_0_f94bb15d1e\" y=\"416.369514\"/>\n    </g>\n    <g clip-path=\"url(#p3bba4cb2d9)\">\n     <use style=\"fill:#60ca60;stroke:#60ca60;\" x=\"341.648676\" xlink:href=\"#C0_0_f94bb15d1e\" y=\"432.911165\"/>\n    </g>\n    <g clip-path=\"url(#p3bba4cb2d9)\">\n     <use style=\"fill:#8bd646;stroke:#8bd646;\" x=\"372.950504\" xlink:href=\"#C0_0_f94bb15d1e\" y=\"389.489331\"/>\n    </g>\n    <g clip-path=\"url(#p3bba4cb2d9)\">\n     <use style=\"fill:#a2da37;stroke:#a2da37;\" x=\"384.020662\" xlink:href=\"#C0_0_f94bb15d1e\" y=\"416.783055\"/>\n    </g>\n    <g clip-path=\"url(#p3bba4cb2d9)\">\n     <use style=\"fill:#460b5e;stroke:#460b5e;\" x=\"444.71567\" xlink:href=\"#C0_0_f94bb15d1e\" y=\"409.339312\"/>\n    </g>\n    <g clip-path=\"url(#p3bba4cb2d9)\">\n     <use style=\"fill:#8bd646;stroke:#8bd646;\" x=\"385.92931\" xlink:href=\"#C0_0_f94bb15d1e\" y=\"351.857076\"/>\n    </g>\n    <g clip-path=\"url(#p3bba4cb2d9)\">\n     <use style=\"fill:#34608d;stroke:#34608d;\" x=\"422.193623\" xlink:href=\"#C0_0_f94bb15d1e\" y=\"334.488342\"/>\n    </g>\n    <g clip-path=\"url(#p3bba4cb2d9)\">\n     <use style=\"fill:#4cc26c;stroke:#4cc26c;\" x=\"424.484001\" xlink:href=\"#C0_0_f94bb15d1e\" y=\"353.0977\"/>\n    </g>\n    <g clip-path=\"url(#p3bba4cb2d9)\">\n     <use style=\"fill:#440154;stroke:#440154;\" x=\"450.823343\" xlink:href=\"#C0_0_f94bb15d1e\" y=\"279.487353\"/>\n    </g>\n    <g clip-path=\"url(#p3bba4cb2d9)\">\n     <use style=\"fill:#1e9c89;stroke:#1e9c89;\" x=\"424.102271\" xlink:href=\"#C0_0_f94bb15d1e\" y=\"227.381153\"/>\n    </g>\n    <g clip-path=\"url(#p3bba4cb2d9)\">\n     <use style=\"fill:#46c06f;stroke:#46c06f;\" x=\"462.275232\" xlink:href=\"#C0_0_f94bb15d1e\" y=\"295.201922\"/>\n    </g>\n    <g clip-path=\"url(#p3bba4cb2d9)\">\n     <use style=\"fill:#98d83e;stroke:#98d83e;\" x=\"479.071334\" xlink:href=\"#C0_0_f94bb15d1e\" y=\"233.997814\"/>\n    </g>\n    <g clip-path=\"url(#p3bba4cb2d9)\">\n     <use style=\"fill:#482979;stroke:#482979;\" x=\"498.921274\" xlink:href=\"#C0_0_f94bb15d1e\" y=\"208.771796\"/>\n    </g>\n    <g clip-path=\"url(#p3bba4cb2d9)\">\n     <use style=\"fill:#40bd72;stroke:#40bd72;\" x=\"512.66354\" xlink:href=\"#C0_0_f94bb15d1e\" y=\"248.058217\"/>\n    </g>\n   </g>\n   <g id=\"matplotlib.axis_1\">\n    <g id=\"xtick_1\">\n     <g id=\"line2d_1\">\n      <defs>\n       <path d=\"M 0 0 \nL 0 3.5 \n\" id=\"m0c1fe498ad\" style=\"stroke:#000000;stroke-width:0.8;\"/>\n      </defs>\n      <g>\n       <use style=\"stroke:#000000;stroke-width:0.8;\" x=\"71.982792\" xlink:href=\"#m0c1fe498ad\" y=\"452.678438\"/>\n      </g>\n     </g>\n     <g id=\"text_1\">\n      <!-- 651900 -->\n      <g transform=\"translate(52.895292 467.276875)scale(0.1 -0.1)\">\n       <defs>\n        <path d=\"M 2113 2584 \nQ 1688 2584 1439 2293 \nQ 1191 2003 1191 1497 \nQ 1191 994 1439 701 \nQ 1688 409 2113 409 \nQ 2538 409 2786 701 \nQ 3034 994 3034 1497 \nQ 3034 2003 2786 2293 \nQ 2538 2584 2113 2584 \nz\nM 3366 4563 \nL 3366 3988 \nQ 3128 4100 2886 4159 \nQ 2644 4219 2406 4219 \nQ 1781 4219 1451 3797 \nQ 1122 3375 1075 2522 \nQ 1259 2794 1537 2939 \nQ 1816 3084 2150 3084 \nQ 2853 3084 3261 2657 \nQ 3669 2231 3669 1497 \nQ 3669 778 3244 343 \nQ 2819 -91 2113 -91 \nQ 1303 -91 875 529 \nQ 447 1150 447 2328 \nQ 447 3434 972 4092 \nQ 1497 4750 2381 4750 \nQ 2619 4750 2861 4703 \nQ 3103 4656 3366 4563 \nz\n\" id=\"DejaVuSans-36\" transform=\"scale(0.015625)\"/>\n        <path d=\"M 691 4666 \nL 3169 4666 \nL 3169 4134 \nL 1269 4134 \nL 1269 2991 \nQ 1406 3038 1543 3061 \nQ 1681 3084 1819 3084 \nQ 2600 3084 3056 2656 \nQ 3513 2228 3513 1497 \nQ 3513 744 3044 326 \nQ 2575 -91 1722 -91 \nQ 1428 -91 1123 -41 \nQ 819 9 494 109 \nL 494 744 \nQ 775 591 1075 516 \nQ 1375 441 1709 441 \nQ 2250 441 2565 725 \nQ 2881 1009 2881 1497 \nQ 2881 1984 2565 2268 \nQ 2250 2553 1709 2553 \nQ 1456 2553 1204 2497 \nQ 953 2441 691 2322 \nL 691 4666 \nz\n\" id=\"DejaVuSans-35\" transform=\"scale(0.015625)\"/>\n        <path d=\"M 794 531 \nL 1825 531 \nL 1825 4091 \nL 703 3866 \nL 703 4441 \nL 1819 4666 \nL 2450 4666 \nL 2450 531 \nL 3481 531 \nL 3481 0 \nL 794 0 \nL 794 531 \nz\n\" id=\"DejaVuSans-31\" transform=\"scale(0.015625)\"/>\n        <path d=\"M 703 97 \nL 703 672 \nQ 941 559 1184 500 \nQ 1428 441 1663 441 \nQ 2288 441 2617 861 \nQ 2947 1281 2994 2138 \nQ 2813 1869 2534 1725 \nQ 2256 1581 1919 1581 \nQ 1219 1581 811 2004 \nQ 403 2428 403 3163 \nQ 403 3881 828 4315 \nQ 1253 4750 1959 4750 \nQ 2769 4750 3195 4129 \nQ 3622 3509 3622 2328 \nQ 3622 1225 3098 567 \nQ 2575 -91 1691 -91 \nQ 1453 -91 1209 -44 \nQ 966 3 703 97 \nz\nM 1959 2075 \nQ 2384 2075 2632 2365 \nQ 2881 2656 2881 3163 \nQ 2881 3666 2632 3958 \nQ 2384 4250 1959 4250 \nQ 1534 4250 1286 3958 \nQ 1038 3666 1038 3163 \nQ 1038 2656 1286 2365 \nQ 1534 2075 1959 2075 \nz\n\" id=\"DejaVuSans-39\" transform=\"scale(0.015625)\"/>\n        <path d=\"M 2034 4250 \nQ 1547 4250 1301 3770 \nQ 1056 3291 1056 2328 \nQ 1056 1369 1301 889 \nQ 1547 409 2034 409 \nQ 2525 409 2770 889 \nQ 3016 1369 3016 2328 \nQ 3016 3291 2770 3770 \nQ 2525 4250 2034 4250 \nz\nM 2034 4750 \nQ 2819 4750 3233 4129 \nQ 3647 3509 3647 2328 \nQ 3647 1150 3233 529 \nQ 2819 -91 2034 -91 \nQ 1250 -91 836 529 \nQ 422 1150 422 2328 \nQ 422 3509 836 4129 \nQ 1250 4750 2034 4750 \nz\n\" id=\"DejaVuSans-30\" transform=\"scale(0.015625)\"/>\n       </defs>\n       <use xlink:href=\"#DejaVuSans-36\"/>\n       <use x=\"63.623047\" xlink:href=\"#DejaVuSans-35\"/>\n       <use x=\"127.246094\" xlink:href=\"#DejaVuSans-31\"/>\n       <use x=\"190.869141\" xlink:href=\"#DejaVuSans-39\"/>\n       <use x=\"254.492188\" xlink:href=\"#DejaVuSans-30\"/>\n       <use x=\"318.115234\" xlink:href=\"#DejaVuSans-30\"/>\n      </g>\n     </g>\n    </g>\n    <g id=\"xtick_2\">\n     <g id=\"line2d_2\">\n      <g>\n       <use style=\"stroke:#000000;stroke-width:0.8;\" x=\"128.451467\" xlink:href=\"#m0c1fe498ad\" y=\"452.678438\"/>\n      </g>\n     </g>\n     <g id=\"text_2\">\n      <!-- 652000 -->\n      <g transform=\"translate(109.363967 467.276875)scale(0.1 -0.1)\">\n       <defs>\n        <path d=\"M 1228 531 \nL 3431 531 \nL 3431 0 \nL 469 0 \nL 469 531 \nQ 828 903 1448 1529 \nQ 2069 2156 2228 2338 \nQ 2531 2678 2651 2914 \nQ 2772 3150 2772 3378 \nQ 2772 3750 2511 3984 \nQ 2250 4219 1831 4219 \nQ 1534 4219 1204 4116 \nQ 875 4013 500 3803 \nL 500 4441 \nQ 881 4594 1212 4672 \nQ 1544 4750 1819 4750 \nQ 2544 4750 2975 4387 \nQ 3406 4025 3406 3419 \nQ 3406 3131 3298 2873 \nQ 3191 2616 2906 2266 \nQ 2828 2175 2409 1742 \nQ 1991 1309 1228 531 \nz\n\" id=\"DejaVuSans-32\" transform=\"scale(0.015625)\"/>\n       </defs>\n       <use xlink:href=\"#DejaVuSans-36\"/>\n       <use x=\"63.623047\" xlink:href=\"#DejaVuSans-35\"/>\n       <use x=\"127.246094\" xlink:href=\"#DejaVuSans-32\"/>\n       <use x=\"190.869141\" xlink:href=\"#DejaVuSans-30\"/>\n       <use x=\"254.492188\" xlink:href=\"#DejaVuSans-30\"/>\n       <use x=\"318.115234\" xlink:href=\"#DejaVuSans-30\"/>\n      </g>\n     </g>\n    </g>\n    <g id=\"xtick_3\">\n     <g id=\"line2d_3\">\n      <g>\n       <use style=\"stroke:#000000;stroke-width:0.8;\" x=\"184.920142\" xlink:href=\"#m0c1fe498ad\" y=\"452.678438\"/>\n      </g>\n     </g>\n     <g id=\"text_3\">\n      <!-- 652100 -->\n      <g transform=\"translate(165.832642 467.276875)scale(0.1 -0.1)\">\n       <use xlink:href=\"#DejaVuSans-36\"/>\n       <use x=\"63.623047\" xlink:href=\"#DejaVuSans-35\"/>\n       <use x=\"127.246094\" xlink:href=\"#DejaVuSans-32\"/>\n       <use x=\"190.869141\" xlink:href=\"#DejaVuSans-31\"/>\n       <use x=\"254.492188\" xlink:href=\"#DejaVuSans-30\"/>\n       <use x=\"318.115234\" xlink:href=\"#DejaVuSans-30\"/>\n      </g>\n     </g>\n    </g>\n    <g id=\"xtick_4\">\n     <g id=\"line2d_4\">\n      <g>\n       <use style=\"stroke:#000000;stroke-width:0.8;\" x=\"241.388818\" xlink:href=\"#m0c1fe498ad\" y=\"452.678438\"/>\n      </g>\n     </g>\n     <g id=\"text_4\">\n      <!-- 652200 -->\n      <g transform=\"translate(222.301318 467.276875)scale(0.1 -0.1)\">\n       <use xlink:href=\"#DejaVuSans-36\"/>\n       <use x=\"63.623047\" xlink:href=\"#DejaVuSans-35\"/>\n       <use x=\"127.246094\" xlink:href=\"#DejaVuSans-32\"/>\n       <use x=\"190.869141\" xlink:href=\"#DejaVuSans-32\"/>\n       <use x=\"254.492188\" xlink:href=\"#DejaVuSans-30\"/>\n       <use x=\"318.115234\" xlink:href=\"#DejaVuSans-30\"/>\n      </g>\n     </g>\n    </g>\n    <g id=\"xtick_5\">\n     <g id=\"line2d_5\">\n      <g>\n       <use style=\"stroke:#000000;stroke-width:0.8;\" x=\"297.857493\" xlink:href=\"#m0c1fe498ad\" y=\"452.678438\"/>\n      </g>\n     </g>\n     <g id=\"text_5\">\n      <!-- 652300 -->\n      <g transform=\"translate(278.769993 467.276875)scale(0.1 -0.1)\">\n       <defs>\n        <path d=\"M 2597 2516 \nQ 3050 2419 3304 2112 \nQ 3559 1806 3559 1356 \nQ 3559 666 3084 287 \nQ 2609 -91 1734 -91 \nQ 1441 -91 1130 -33 \nQ 819 25 488 141 \nL 488 750 \nQ 750 597 1062 519 \nQ 1375 441 1716 441 \nQ 2309 441 2620 675 \nQ 2931 909 2931 1356 \nQ 2931 1769 2642 2001 \nQ 2353 2234 1838 2234 \nL 1294 2234 \nL 1294 2753 \nL 1863 2753 \nQ 2328 2753 2575 2939 \nQ 2822 3125 2822 3475 \nQ 2822 3834 2567 4026 \nQ 2313 4219 1838 4219 \nQ 1578 4219 1281 4162 \nQ 984 4106 628 3988 \nL 628 4550 \nQ 988 4650 1302 4700 \nQ 1616 4750 1894 4750 \nQ 2613 4750 3031 4423 \nQ 3450 4097 3450 3541 \nQ 3450 3153 3228 2886 \nQ 3006 2619 2597 2516 \nz\n\" id=\"DejaVuSans-33\" transform=\"scale(0.015625)\"/>\n       </defs>\n       <use xlink:href=\"#DejaVuSans-36\"/>\n       <use x=\"63.623047\" xlink:href=\"#DejaVuSans-35\"/>\n       <use x=\"127.246094\" xlink:href=\"#DejaVuSans-32\"/>\n       <use x=\"190.869141\" xlink:href=\"#DejaVuSans-33\"/>\n       <use x=\"254.492188\" xlink:href=\"#DejaVuSans-30\"/>\n       <use x=\"318.115234\" xlink:href=\"#DejaVuSans-30\"/>\n      </g>\n     </g>\n    </g>\n    <g id=\"xtick_6\">\n     <g id=\"line2d_6\">\n      <g>\n       <use style=\"stroke:#000000;stroke-width:0.8;\" x=\"354.326168\" xlink:href=\"#m0c1fe498ad\" y=\"452.678438\"/>\n      </g>\n     </g>\n     <g id=\"text_6\">\n      <!-- 652400 -->\n      <g transform=\"translate(335.238668 467.276875)scale(0.1 -0.1)\">\n       <defs>\n        <path d=\"M 2419 4116 \nL 825 1625 \nL 2419 1625 \nL 2419 4116 \nz\nM 2253 4666 \nL 3047 4666 \nL 3047 1625 \nL 3713 1625 \nL 3713 1100 \nL 3047 1100 \nL 3047 0 \nL 2419 0 \nL 2419 1100 \nL 313 1100 \nL 313 1709 \nL 2253 4666 \nz\n\" id=\"DejaVuSans-34\" transform=\"scale(0.015625)\"/>\n       </defs>\n       <use xlink:href=\"#DejaVuSans-36\"/>\n       <use x=\"63.623047\" xlink:href=\"#DejaVuSans-35\"/>\n       <use x=\"127.246094\" xlink:href=\"#DejaVuSans-32\"/>\n       <use x=\"190.869141\" xlink:href=\"#DejaVuSans-34\"/>\n       <use x=\"254.492188\" xlink:href=\"#DejaVuSans-30\"/>\n       <use x=\"318.115234\" xlink:href=\"#DejaVuSans-30\"/>\n      </g>\n     </g>\n    </g>\n    <g id=\"xtick_7\">\n     <g id=\"line2d_7\">\n      <g>\n       <use style=\"stroke:#000000;stroke-width:0.8;\" x=\"410.794843\" xlink:href=\"#m0c1fe498ad\" y=\"452.678438\"/>\n      </g>\n     </g>\n     <g id=\"text_7\">\n      <!-- 652500 -->\n      <g transform=\"translate(391.707343 467.276875)scale(0.1 -0.1)\">\n       <use xlink:href=\"#DejaVuSans-36\"/>\n       <use x=\"63.623047\" xlink:href=\"#DejaVuSans-35\"/>\n       <use x=\"127.246094\" xlink:href=\"#DejaVuSans-32\"/>\n       <use x=\"190.869141\" xlink:href=\"#DejaVuSans-35\"/>\n       <use x=\"254.492188\" xlink:href=\"#DejaVuSans-30\"/>\n       <use x=\"318.115234\" xlink:href=\"#DejaVuSans-30\"/>\n      </g>\n     </g>\n    </g>\n    <g id=\"xtick_8\">\n     <g id=\"line2d_8\">\n      <g>\n       <use style=\"stroke:#000000;stroke-width:0.8;\" x=\"467.263518\" xlink:href=\"#m0c1fe498ad\" y=\"452.678438\"/>\n      </g>\n     </g>\n     <g id=\"text_8\">\n      <!-- 652600 -->\n      <g transform=\"translate(448.176018 467.276875)scale(0.1 -0.1)\">\n       <use xlink:href=\"#DejaVuSans-36\"/>\n       <use x=\"63.623047\" xlink:href=\"#DejaVuSans-35\"/>\n       <use x=\"127.246094\" xlink:href=\"#DejaVuSans-32\"/>\n       <use x=\"190.869141\" xlink:href=\"#DejaVuSans-36\"/>\n       <use x=\"254.492188\" xlink:href=\"#DejaVuSans-30\"/>\n       <use x=\"318.115234\" xlink:href=\"#DejaVuSans-30\"/>\n      </g>\n     </g>\n    </g>\n    <g id=\"xtick_9\">\n     <g id=\"line2d_9\">\n      <g>\n       <use style=\"stroke:#000000;stroke-width:0.8;\" x=\"523.732194\" xlink:href=\"#m0c1fe498ad\" y=\"452.678438\"/>\n      </g>\n     </g>\n     <g id=\"text_9\">\n      <!-- 652700 -->\n      <g transform=\"translate(504.644694 467.276875)scale(0.1 -0.1)\">\n       <defs>\n        <path d=\"M 525 4666 \nL 3525 4666 \nL 3525 4397 \nL 1831 0 \nL 1172 0 \nL 2766 4134 \nL 525 4134 \nL 525 4666 \nz\n\" id=\"DejaVuSans-37\" transform=\"scale(0.015625)\"/>\n       </defs>\n       <use xlink:href=\"#DejaVuSans-36\"/>\n       <use x=\"63.623047\" xlink:href=\"#DejaVuSans-35\"/>\n       <use x=\"127.246094\" xlink:href=\"#DejaVuSans-32\"/>\n       <use x=\"190.869141\" xlink:href=\"#DejaVuSans-37\"/>\n       <use x=\"254.492188\" xlink:href=\"#DejaVuSans-30\"/>\n       <use x=\"318.115234\" xlink:href=\"#DejaVuSans-30\"/>\n      </g>\n     </g>\n    </g>\n   </g>\n   <g id=\"matplotlib.axis_2\">\n    <g id=\"ytick_1\">\n     <g id=\"line2d_10\">\n      <defs>\n       <path d=\"M 0 0 \nL -3.5 0 \n\" id=\"m2b74f52c7b\" style=\"stroke:#000000;stroke-width:0.8;\"/>\n      </defs>\n      <g>\n       <use style=\"stroke:#000000;stroke-width:0.8;\" x=\"33.2875\" xlink:href=\"#m2b74f52c7b\" y=\"420.364881\"/>\n      </g>\n     </g>\n     <g id=\"text_10\">\n      <!-- 0 -->\n      <g transform=\"translate(19.925 424.1641)scale(0.1 -0.1)\">\n       <use xlink:href=\"#DejaVuSans-30\"/>\n      </g>\n     </g>\n    </g>\n    <g id=\"ytick_2\">\n     <g id=\"line2d_11\">\n      <g>\n       <use style=\"stroke:#000000;stroke-width:0.8;\" x=\"33.2875\" xlink:href=\"#m2b74f52c7b\" y=\"359.190355\"/>\n      </g>\n     </g>\n     <g id=\"text_11\">\n      <!-- 100 -->\n      <g transform=\"translate(7.2 362.989574)scale(0.1 -0.1)\">\n       <use xlink:href=\"#DejaVuSans-31\"/>\n       <use x=\"63.623047\" xlink:href=\"#DejaVuSans-30\"/>\n       <use x=\"127.246094\" xlink:href=\"#DejaVuSans-30\"/>\n      </g>\n     </g>\n    </g>\n    <g id=\"ytick_3\">\n     <g id=\"line2d_12\">\n      <g>\n       <use style=\"stroke:#000000;stroke-width:0.8;\" x=\"33.2875\" xlink:href=\"#m2b74f52c7b\" y=\"298.015829\"/>\n      </g>\n     </g>\n     <g id=\"text_12\">\n      <!-- 200 -->\n      <g transform=\"translate(7.2 301.815048)scale(0.1 -0.1)\">\n       <use xlink:href=\"#DejaVuSans-32\"/>\n       <use x=\"63.623047\" xlink:href=\"#DejaVuSans-30\"/>\n       <use x=\"127.246094\" xlink:href=\"#DejaVuSans-30\"/>\n      </g>\n     </g>\n    </g>\n    <g id=\"ytick_4\">\n     <g id=\"line2d_13\">\n      <g>\n       <use style=\"stroke:#000000;stroke-width:0.8;\" x=\"33.2875\" xlink:href=\"#m2b74f52c7b\" y=\"236.841303\"/>\n      </g>\n     </g>\n     <g id=\"text_13\">\n      <!-- 300 -->\n      <g transform=\"translate(7.2 240.640522)scale(0.1 -0.1)\">\n       <use xlink:href=\"#DejaVuSans-33\"/>\n       <use x=\"63.623047\" xlink:href=\"#DejaVuSans-30\"/>\n       <use x=\"127.246094\" xlink:href=\"#DejaVuSans-30\"/>\n      </g>\n     </g>\n    </g>\n    <g id=\"ytick_5\">\n     <g id=\"line2d_14\">\n      <g>\n       <use style=\"stroke:#000000;stroke-width:0.8;\" x=\"33.2875\" xlink:href=\"#m2b74f52c7b\" y=\"175.666777\"/>\n      </g>\n     </g>\n     <g id=\"text_14\">\n      <!-- 400 -->\n      <g transform=\"translate(7.2 179.465996)scale(0.1 -0.1)\">\n       <use xlink:href=\"#DejaVuSans-34\"/>\n       <use x=\"63.623047\" xlink:href=\"#DejaVuSans-30\"/>\n       <use x=\"127.246094\" xlink:href=\"#DejaVuSans-30\"/>\n      </g>\n     </g>\n    </g>\n    <g id=\"ytick_6\">\n     <g id=\"line2d_15\">\n      <g>\n       <use style=\"stroke:#000000;stroke-width:0.8;\" x=\"33.2875\" xlink:href=\"#m2b74f52c7b\" y=\"114.492251\"/>\n      </g>\n     </g>\n     <g id=\"text_15\">\n      <!-- 500 -->\n      <g transform=\"translate(7.2 118.29147)scale(0.1 -0.1)\">\n       <use xlink:href=\"#DejaVuSans-35\"/>\n       <use x=\"63.623047\" xlink:href=\"#DejaVuSans-30\"/>\n       <use x=\"127.246094\" xlink:href=\"#DejaVuSans-30\"/>\n      </g>\n     </g>\n    </g>\n    <g id=\"ytick_7\">\n     <g id=\"line2d_16\">\n      <g>\n       <use style=\"stroke:#000000;stroke-width:0.8;\" x=\"33.2875\" xlink:href=\"#m2b74f52c7b\" y=\"53.317725\"/>\n      </g>\n     </g>\n     <g id=\"text_16\">\n      <!-- 600 -->\n      <g transform=\"translate(7.2 57.116944)scale(0.1 -0.1)\">\n       <use xlink:href=\"#DejaVuSans-36\"/>\n       <use x=\"63.623047\" xlink:href=\"#DejaVuSans-30\"/>\n       <use x=\"127.246094\" xlink:href=\"#DejaVuSans-30\"/>\n      </g>\n     </g>\n    </g>\n    <g id=\"text_17\">\n     <!-- +9.9170000000e6 -->\n     <g transform=\"translate(33.2875 14.798438)scale(0.1 -0.1)\">\n      <defs>\n       <path d=\"M 2944 4013 \nL 2944 2272 \nL 4684 2272 \nL 4684 1741 \nL 2944 1741 \nL 2944 0 \nL 2419 0 \nL 2419 1741 \nL 678 1741 \nL 678 2272 \nL 2419 2272 \nL 2419 4013 \nL 2944 4013 \nz\n\" id=\"DejaVuSans-2b\" transform=\"scale(0.015625)\"/>\n       <path d=\"M 684 794 \nL 1344 794 \nL 1344 0 \nL 684 0 \nL 684 794 \nz\n\" id=\"DejaVuSans-2e\" transform=\"scale(0.015625)\"/>\n       <path d=\"M 3597 1894 \nL 3597 1613 \nL 953 1613 \nQ 991 1019 1311 708 \nQ 1631 397 2203 397 \nQ 2534 397 2845 478 \nQ 3156 559 3463 722 \nL 3463 178 \nQ 3153 47 2828 -22 \nQ 2503 -91 2169 -91 \nQ 1331 -91 842 396 \nQ 353 884 353 1716 \nQ 353 2575 817 3079 \nQ 1281 3584 2069 3584 \nQ 2775 3584 3186 3129 \nQ 3597 2675 3597 1894 \nz\nM 3022 2063 \nQ 3016 2534 2758 2815 \nQ 2500 3097 2075 3097 \nQ 1594 3097 1305 2825 \nQ 1016 2553 972 2059 \nL 3022 2063 \nz\n\" id=\"DejaVuSans-65\" transform=\"scale(0.015625)\"/>\n      </defs>\n      <use xlink:href=\"#DejaVuSans-2b\"/>\n      <use x=\"83.789062\" xlink:href=\"#DejaVuSans-39\"/>\n      <use x=\"147.412109\" xlink:href=\"#DejaVuSans-2e\"/>\n      <use x=\"179.199219\" xlink:href=\"#DejaVuSans-39\"/>\n      <use x=\"242.822266\" xlink:href=\"#DejaVuSans-31\"/>\n      <use x=\"306.445312\" xlink:href=\"#DejaVuSans-37\"/>\n      <use x=\"370.068359\" xlink:href=\"#DejaVuSans-30\"/>\n      <use x=\"433.691406\" xlink:href=\"#DejaVuSans-30\"/>\n      <use x=\"497.314453\" xlink:href=\"#DejaVuSans-30\"/>\n      <use x=\"560.9375\" xlink:href=\"#DejaVuSans-30\"/>\n      <use x=\"624.560547\" xlink:href=\"#DejaVuSans-30\"/>\n      <use x=\"688.183594\" xlink:href=\"#DejaVuSans-30\"/>\n      <use x=\"751.806641\" xlink:href=\"#DejaVuSans-30\"/>\n      <use x=\"815.429688\" xlink:href=\"#DejaVuSans-65\"/>\n      <use x=\"876.953125\" xlink:href=\"#DejaVuSans-36\"/>\n     </g>\n    </g>\n   </g>\n   <g id=\"patch_3\">\n    <path d=\"M 33.2875 452.678438 \nL 33.2875 17.798438 \n\" style=\"fill:none;stroke:#000000;stroke-linecap:square;stroke-linejoin:miter;stroke-width:0.8;\"/>\n   </g>\n   <g id=\"patch_4\">\n    <path d=\"M 535.49097 452.678438 \nL 535.49097 17.798438 \n\" style=\"fill:none;stroke:#000000;stroke-linecap:square;stroke-linejoin:miter;stroke-width:0.8;\"/>\n   </g>\n   <g id=\"patch_5\">\n    <path d=\"M 33.2875 452.678438 \nL 535.49097 452.678438 \n\" style=\"fill:none;stroke:#000000;stroke-linecap:square;stroke-linejoin:miter;stroke-width:0.8;\"/>\n   </g>\n   <g id=\"patch_6\">\n    <path d=\"M 33.2875 17.798438 \nL 535.49097 17.798438 \n\" style=\"fill:none;stroke:#000000;stroke-linecap:square;stroke-linejoin:miter;stroke-width:0.8;\"/>\n   </g>\n  </g>\n </g>\n <defs>\n  <clipPath id=\"p3bba4cb2d9\">\n   <rect height=\"434.88\" width=\"502.20347\" x=\"33.2875\" y=\"17.798438\"/>\n  </clipPath>\n </defs>\n</svg>\n",
      "image/png": "[encoded data removed]"
     },
     "metadata": {
      "needs_background": "light"
     }
    }
   ],
   "source": [
    "data.plot('NDVI', figsize=(16, 8));"
   ]
  },
  {
   "cell_type": "code",
   "execution_count": null,
   "metadata": {},
   "outputs": [],
   "source": []
  }
 ]
}